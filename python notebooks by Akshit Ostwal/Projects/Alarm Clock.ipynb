{
 "cells": [
  {
   "cell_type": "code",
   "execution_count": 1,
   "metadata": {},
   "outputs": [],
   "source": [
    "import os,winsound,time"
   ]
  },
  {
   "cell_type": "code",
   "execution_count": 7,
   "metadata": {},
   "outputs": [],
   "source": [
    "def sound():\n",
    "    print(\"Your limit is reached\")\n",
    "    winsound.PlaySound('sound.wav', winsound.SND_FILENAME)"
   ]
  },
  {
   "cell_type": "code",
   "execution_count": 8,
   "metadata": {},
   "outputs": [],
   "source": [
    "def timer(t):\n",
    "    time.sleep(t)\n",
    "    sound()"
   ]
  },
  {
   "cell_type": "code",
   "execution_count": 9,
   "metadata": {},
   "outputs": [],
   "source": [
    "def main():\n",
    "    os.system('cls')\n",
    "    print(\"Welcome this is the alarm for your system !!!!\")\n",
    "    print(\"We will alert you when your tie will come.\")\n",
    "    print(\"Currently we support seconds timer , Try it out !!!\")\n",
    "    t = int(input(\"Enter number of seconds after which you want to get Alert !!\\n\"))\n",
    "    timer(t)"
   ]
  },
  {
   "cell_type": "code",
   "execution_count": 10,
   "metadata": {},
   "outputs": [
    {
     "name": "stdout",
     "output_type": "stream",
     "text": [
      "Welcome this is the alarm for your system !!!!\n",
      "We will alert you when your tie will come.\n",
      "Currently we support seconds timer , Try it out !!!\n",
      "Enter number of seconds after which you want to get Alert !!\n",
      "10\n",
      "Your limit is reached\n"
     ]
    }
   ],
   "source": [
    "main()"
   ]
  },
  {
   "cell_type": "code",
   "execution_count": null,
   "metadata": {},
   "outputs": [],
   "source": []
  }
 ],
 "metadata": {
  "kernelspec": {
   "display_name": "Python 3",
   "language": "python",
   "name": "python3"
  },
  "language_info": {
   "codemirror_mode": {
    "name": "ipython",
    "version": 3
   },
   "file_extension": ".py",
   "mimetype": "text/x-python",
   "name": "python",
   "nbconvert_exporter": "python",
   "pygments_lexer": "ipython3",
   "version": "3.7.1"
  }
 },
 "nbformat": 4,
 "nbformat_minor": 2
}
