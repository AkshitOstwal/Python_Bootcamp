{
 "cells": [
  {
   "cell_type": "code",
   "execution_count": 1,
   "metadata": {},
   "outputs": [
    {
     "name": "stdout",
     "output_type": "stream",
     "text": [
      "its True!!\n"
     ]
    }
   ],
   "source": [
    "if True:\n",
    "    print('its True!!')"
   ]
  },
  {
   "cell_type": "code",
   "execution_count": 2,
   "metadata": {},
   "outputs": [
    {
     "name": "stdout",
     "output_type": "stream",
     "text": [
      "true\n"
     ]
    }
   ],
   "source": [
    "if 3<5:\n",
    "    print (\"true\")\n"
   ]
  },
  {
   "cell_type": "code",
   "execution_count": 8,
   "metadata": {},
   "outputs": [
    {
     "name": "stdout",
     "output_type": "stream",
     "text": [
      "no need, i am not hungry\n"
     ]
    }
   ],
   "source": [
    "hungry = False\n",
    "if hungry:\n",
    "    print ('feed me')\n",
    "else :\n",
    "    print(\"no need, i am not hungry\")"
   ]
  },
  {
   "cell_type": "code",
   "execution_count": 12,
   "metadata": {},
   "outputs": [
    {
     "name": "stdout",
     "output_type": "stream",
     "text": [
      "i do not know much\n"
     ]
    }
   ],
   "source": [
    "loc = 'Bank'\n",
    "if loc == \"auto shop\":\n",
    "    print(\"cars are cool\")\n",
    "elif loc == \"Bank \":\n",
    "    print(\"welcome to bank\")\n",
    "elif loc == \"store\":\n",
    "    print(\"welcoe to store\")\n",
    "else:\n",
    "    print(\"i do not know much\")"
   ]
  },
  {
   "cell_type": "code",
   "execution_count": 14,
   "metadata": {},
   "outputs": [
    {
     "name": "stdout",
     "output_type": "stream",
     "text": [
      "heloo sammy\n"
     ]
    }
   ],
   "source": [
    "name = \"sammy\"\n",
    "if name == \"franky\":\n",
    "    print(\"hello franky\")\n",
    "elif name == \"sammy\":\n",
    "    print(\"heloo sammy\")\n",
    "else :\n",
    "    print(\"whats is your name\")"
   ]
  },
  {
   "cell_type": "code",
   "execution_count": null,
   "metadata": {},
   "outputs": [],
   "source": []
  }
 ],
 "metadata": {
  "kernelspec": {
   "display_name": "Python 3",
   "language": "python",
   "name": "python3"
  },
  "language_info": {
   "codemirror_mode": {
    "name": "ipython",
    "version": 3
   },
   "file_extension": ".py",
   "mimetype": "text/x-python",
   "name": "python",
   "nbconvert_exporter": "python",
   "pygments_lexer": "ipython3",
   "version": "3.7.1"
  }
 },
 "nbformat": 4,
 "nbformat_minor": 2
}
