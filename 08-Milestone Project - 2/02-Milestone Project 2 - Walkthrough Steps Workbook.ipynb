{
 "cells": [
  {
   "cell_type": "markdown",
   "metadata": {
    "collapsed": true
   },
   "source": [
    "# Milestone Project 2 - Walkthrough Steps Workbook\n",
    "Below is a set of steps for you to follow to try to create the Blackjack Milestone Project game!"
   ]
  },
  {
   "cell_type": "markdown",
   "metadata": {},
   "source": [
    "## Game Play\n",
    "To play a hand of Blackjack the following steps must be followed:\n",
    "1. Create a deck of 52 cards\n",
    "2. Shuffle the deck\n",
    "3. Ask the Player for their bet\n",
    "4. Make sure that the Player's bet does not exceed their available chips\n",
    "5. Deal two cards to the Dealer and two cards to the Player\n",
    "6. Show only one of the Dealer's cards, the other remains hidden\n",
    "7. Show both of the Player's cards\n",
    "8. Ask the Player if they wish to Hit, and take another card\n",
    "9. If the Player's hand doesn't Bust (go over 21), ask if they'd like to Hit again.\n",
    "10. If a Player Stands, play the Dealer's hand. The dealer will always Hit until the Dealer's value meets or exceeds 17\n",
    "11. Determine the winner and adjust the Player's chips accordingly\n",
    "12. Ask the Player if they'd like to play again"
   ]
  },
  {
   "cell_type": "markdown",
   "metadata": {},
   "source": [
    "## Playing Cards\n",
    "A standard deck of playing cards has four suits (Hearts, Diamonds, Spades and Clubs) and thirteen ranks (2 through 10, then the face cards Jack, Queen, King and Ace) for a total of 52 cards per deck. Jacks, Queens and Kings all have a rank of 10. Aces have a rank of either 11 or 1 as needed to reach 21 without busting. As a starting point in your program, you may want to assign variables to store a list of suits, ranks, and then use a dictionary to map ranks to values."
   ]
  },
  {
   "cell_type": "markdown",
   "metadata": {},
   "source": [
    "## The Game\n",
    "### Imports and Global Variables\n",
    "** Step 1: Import the random module. This will be used to shuffle the deck prior to dealing. Then, declare variables to store suits, ranks and values. You can develop your own system, or copy ours below. Finally, declare a Boolean value to be used to control <code>while</code> loops. This is a common practice used to control the flow of the game.**\n",
    "\n",
    "    suits = ('Hearts', 'Diamonds', 'Spades', 'Clubs')\n",
    "    ranks = ('Two', 'Three', 'Four', 'Five', 'Six', 'Seven', 'Eight', 'Nine', 'Ten', 'Jack', 'Queen', 'King', 'Ace')\n",
    "    values = {'Two':2, 'Three':3, 'Four':4, 'Five':5, 'Six':6, 'Seven':7, 'Eight':8, 'Nine':9, 'Ten':10, 'Jack':10,\n",
    "             'Queen':10, 'King':10, 'Ace':11}"
   ]
  },
  {
   "cell_type": "code",
   "execution_count": 1,
   "metadata": {},
   "outputs": [],
   "source": [
    "import random\n",
    "\n",
    "suits = ('Hearts','Diamonds','Spades','Clubs')\n",
    "ranks = ('Two','Three','Four','Five','Six','Seven','Eight','Nine','Ten','Jack','Queen','King','Ace')\n",
    "values = {'Two' : 2,'Three' : 3,'Four':4,'Five':5,'Six':6,'Seven':7,'Eight':8,'Nine':9,'Ten':10,'Jack':10,'Queen':10,'King':10,'Ace':11}\n",
    "\n",
    "playing = True"
   ]
  },
  {
   "cell_type": "markdown",
   "metadata": {},
   "source": [
    "### Class Definitions\n",
    "Consider making a Card class where each Card object has a suit and a rank, then a Deck class to hold all 52 Card objects, and can be shuffled, and finally a Hand class that holds those Cards that have been dealt to each player from the Deck."
   ]
  },
  {
   "cell_type": "markdown",
   "metadata": {},
   "source": [
    "**Step 2: Create a Card Class**<br>\n",
    "A Card object really only needs two attributes: suit and rank. You might add an attribute for \"value\" - we chose to handle value later when developing our Hand class.<br>In addition to the Card's \\_\\_init\\_\\_ method, consider adding a \\_\\_str\\_\\_ method that, when asked to print a Card, returns a string in the form \"Two of Hearts\""
   ]
  },
  {
   "cell_type": "code",
   "execution_count": 2,
   "metadata": {},
   "outputs": [],
   "source": [
    "class Card:\n",
    "    suit =[]\n",
    "    rank =[]\n",
    "    value  =[]\n",
    "    def __init__(self,suit,rank,value):\n",
    "        self.suit = suit\n",
    "        self.rank = rank\n",
    "        self.value = value\n",
    "    def __str__(self):\n",
    "        return \"%s of %s and have value %s\"%(self.rank,self.suit,self.value)\n"
   ]
  },
  {
   "cell_type": "markdown",
   "metadata": {},
   "source": [
    "**Step 3: Create a Deck Class**<br>\n",
    "Here we might store 52 card objects in a list that can later be shuffled. First, though, we need to *instantiate* all 52 unique card objects and add them to our list. So long as the Card class definition appears in our code, we can build Card objects inside our Deck \\_\\_init\\_\\_ method. Consider iterating over sequences of suits and ranks to build out each card. This might appear inside a Deck class \\_\\_init\\_\\_ method:\n",
    "\n",
    "    for suit in suits:\n",
    "        for rank in ranks:\n",
    "\n",
    "In addition to an \\_\\_init\\_\\_ method we'll want to add methods to shuffle our deck, and to deal out cards during gameplay.<br><br>\n",
    "OPTIONAL: We may never need to print the contents of the deck during gameplay, but having the ability to see the cards inside it may help troubleshoot any problems that occur during development. With this in mind, consider adding a \\_\\_str\\_\\_ method to the class definition."
   ]
  },
  {
   "cell_type": "code",
   "execution_count": 3,
   "metadata": {},
   "outputs": [],
   "source": [
    "class Deck:\n",
    "    def __init__(self):\n",
    "        self.deck = []\n",
    "        for suit in suits:\n",
    "            for rank in ranks:\n",
    "                value = values[rank]\n",
    "                self.deck.append(Card(suit,rank,value))\n",
    "\n",
    "    def __str__(self):\n",
    "        deck_comp = ''\n",
    "        for card in self.deck:\n",
    "            deck_comp += '\\n' + card.__str__()\n",
    "        return 'the desk has \\n'+deck_comp\n",
    "\n",
    "    def shuffle(self):\n",
    "        random.shuffle(self.deck)\n",
    "\n",
    "    def deal(self):\n",
    "        single_card = self.deck.pop()\n",
    "        return single_card"
   ]
  },
  {
   "cell_type": "markdown",
   "metadata": {},
   "source": [
    "TESTING: Just to see that everything works so far, let's see what our Deck looks like!"
   ]
  },
  {
   "cell_type": "code",
   "execution_count": 4,
   "metadata": {},
   "outputs": [
    {
     "name": "stdout",
     "output_type": "stream",
     "text": [
      "the desk has \n",
      "\n",
      "Two of Clubs and have value 2\n",
      "Seven of Diamonds and have value 7\n",
      "Five of Spades and have value 5\n",
      "Five of Hearts and have value 5\n",
      "Six of Diamonds and have value 6\n",
      "Nine of Clubs and have value 9\n",
      "Eight of Hearts and have value 8\n",
      "Six of Spades and have value 6\n",
      "Nine of Spades and have value 9\n",
      "Ace of Clubs and have value 11\n",
      "Eight of Diamonds and have value 8\n",
      "Four of Diamonds and have value 4\n",
      "Jack of Diamonds and have value 10\n",
      "Three of Spades and have value 3\n",
      "Six of Clubs and have value 6\n",
      "Four of Spades and have value 4\n",
      "King of Diamonds and have value 10\n",
      "Queen of Hearts and have value 10\n",
      "Four of Hearts and have value 4\n",
      "Eight of Clubs and have value 8\n",
      "Five of Diamonds and have value 5\n",
      "Ace of Diamonds and have value 11\n",
      "King of Spades and have value 10\n",
      "Three of Hearts and have value 3\n",
      "King of Clubs and have value 10\n",
      "Ten of Spades and have value 10\n",
      "Queen of Spades and have value 10\n",
      "Jack of Clubs and have value 10\n",
      "Four of Clubs and have value 4\n",
      "Nine of Diamonds and have value 9\n",
      "Three of Diamonds and have value 3\n",
      "Seven of Clubs and have value 7\n",
      "Seven of Spades and have value 7\n",
      "Queen of Clubs and have value 10\n",
      "Ten of Hearts and have value 10\n",
      "Jack of Hearts and have value 10\n",
      "Five of Clubs and have value 5\n",
      "Eight of Spades and have value 8\n",
      "Two of Hearts and have value 2\n",
      "Jack of Spades and have value 10\n",
      "Seven of Hearts and have value 7\n",
      "Six of Hearts and have value 6\n",
      "Ace of Spades and have value 11\n",
      "Nine of Hearts and have value 9\n",
      "Ace of Hearts and have value 11\n",
      "Queen of Diamonds and have value 10\n",
      "Three of Clubs and have value 3\n",
      "King of Hearts and have value 10\n",
      "Two of Spades and have value 2\n",
      "Ten of Diamonds and have value 10\n",
      "Two of Diamonds and have value 2\n",
      "Ten of Clubs and have value 10\n"
     ]
    }
   ],
   "source": [
    "test_deck = Deck()\n",
    "test_deck.shuffle()\n",
    "print(test_deck)"
   ]
  },
  {
   "cell_type": "markdown",
   "metadata": {},
   "source": [
    "Great! Now let's move on to our Hand class."
   ]
  },
  {
   "cell_type": "markdown",
   "metadata": {},
   "source": [
    "**Step 4: Create a Hand Class**<br>\n",
    "In addition to holding Card objects dealt from the Deck, the Hand class may be used to calculate the value of those cards using the values dictionary defined above. It may also need to adjust for the value of Aces when appropriate."
   ]
  },
  {
   "cell_type": "code",
   "execution_count": 5,
   "metadata": {},
   "outputs": [],
   "source": [
    "class Hand:\n",
    "    def __init__(self):\n",
    "        self.cards = []  # start with an empty list as we did in the Deck class\n",
    "        self.value = 0   # start with zero value\n",
    "        self.aces = 0    # add an attribute to keep track of aces\n",
    "    \n",
    "    def add_card(self,card):\n",
    "        #card passed in from Deck.deal()\n",
    "        self.cards.append(card)\n",
    "        self.value += card.value\n",
    "        \n",
    "        if card.rank == 'Ace':\n",
    "            self.aces += 1\n",
    "    \n",
    "    def adjust_for_ace(self):\n",
    "        #if total value >21 and i still have an ace\n",
    "        # than change my ace to be 1 instead of an 11\n",
    "        \n",
    "        while self.value>21 and self.aces:\n",
    "            self.value -= 10\n",
    "            self.aces -= 1"
   ]
  },
  {
   "cell_type": "code",
   "execution_count": 6,
   "metadata": {},
   "outputs": [
    {
     "name": "stdout",
     "output_type": "stream",
     "text": [
      "Ten of Spades and have value 10\n",
      "10\n"
     ]
    }
   ],
   "source": [
    "test_deck =Deck()\n",
    "test_deck.shuffle()\n",
    "#player\n",
    "test_player = Hand()\n",
    "pulled_card = test_deck.deal()\n",
    "print(pulled_card)\n",
    "test_player.add_card(pulled_card)\n",
    "print(test_player.value)"
   ]
  },
  {
   "cell_type": "code",
   "execution_count": 7,
   "metadata": {},
   "outputs": [
    {
     "name": "stdout",
     "output_type": "stream",
     "text": [
      "18\n"
     ]
    }
   ],
   "source": [
    "test_player.add_card(test_deck.deal())\n",
    "print(test_player.value)"
   ]
  },
  {
   "cell_type": "markdown",
   "metadata": {},
   "source": [
    "**Step 5: Create a Chips Class**<br>\n",
    "In addition to decks of cards and hands, we need to keep track of a Player's starting chips, bets, and ongoing winnings. This could be done using global variables, but in the spirit of object oriented programming, let's make a Chips class instead!"
   ]
  },
  {
   "cell_type": "code",
   "execution_count": 8,
   "metadata": {},
   "outputs": [],
   "source": [
    "class Chips:\n",
    "    \n",
    "    def __init__(self,total=100):\n",
    "        self.total = total  # This can be set to a default value or supplied by a user input\n",
    "        self.bet = 0\n",
    "        \n",
    "    def win_bet(self):\n",
    "        self.total += self.bet\n",
    "    \n",
    "    def lose_bet(self):\n",
    "        self.total -= self.bet"
   ]
  },
  {
   "cell_type": "markdown",
   "metadata": {},
   "source": [
    "### Function Defintions\n",
    "A lot of steps are going to be repetitive. That's where functions come in! The following steps are guidelines - add or remove functions as needed in your own program."
   ]
  },
  {
   "cell_type": "markdown",
   "metadata": {},
   "source": [
    "**Step 6: Write a function for taking bets**<br>\n",
    "Since we're asking the user for an integer value, this would be a good place to use <code>try</code>/<code>except</code>. Remember to check that a Player's bet can be covered by their available chips."
   ]
  },
  {
   "cell_type": "code",
   "execution_count": 9,
   "metadata": {},
   "outputs": [],
   "source": [
    "def take_bet(chips):\n",
    "    while True:\n",
    "        \n",
    "        try:\n",
    "            chips.bet = int(input('Enter amount you would like to bet'))\n",
    "            break\n",
    "        except:\n",
    "            print('Enter only integer !!')\n",
    "        else:\n",
    "            if chips.bet > chips.total:\n",
    "                print('you dont have enough chips you have : {}'.format(chips.total))\n",
    "            else:\n",
    "                break"
   ]
  },
  {
   "cell_type": "markdown",
   "metadata": {},
   "source": [
    "**Step 7: Write a function for taking hits**<br>\n",
    "Either player can take hits until they bust. This function will be called during gameplay anytime a Player requests a hit, or a Dealer's hand is less than 17. It should take in Deck and Hand objects as arguments, and deal one card off the deck and add it to the Hand. You may want it to check for aces in the event that a player's hand exceeds 21."
   ]
  },
  {
   "cell_type": "code",
   "execution_count": 10,
   "metadata": {},
   "outputs": [],
   "source": [
    "def hit(deck,hand):\n",
    "    hand.add_card(deck.deal())\n",
    "    hand.adjust_for_ace()"
   ]
  },
  {
   "cell_type": "markdown",
   "metadata": {},
   "source": [
    "**Step 8: Write a function prompting the Player to Hit or Stand**<br>\n",
    "This function should accept the deck and the player's hand as arguments, and assign playing as a global variable.<br>\n",
    "If the Player Hits, employ the hit() function above. If the Player Stands, set the playing variable to False - this will control the behavior of a <code>while</code> loop later on in our code."
   ]
  },
  {
   "cell_type": "code",
   "execution_count": 11,
   "metadata": {},
   "outputs": [],
   "source": [
    "def hit_or_stand(deck,hand):\n",
    "    global playing  # to control an upcoming while loop\n",
    "    while True:\n",
    "        x = input('Hit or stand? Enter h or s')# hit #Hit #Stand\n",
    "        if  x[0].lower() == 's':\n",
    "            print('Player Stand dealer turn')\n",
    "            playing = False\n",
    "            break\n",
    "        elif x[0].lower() == 'h':\n",
    "            print('Player hit')\n",
    "            hit(deck,hand)\n",
    "            playing = True\n",
    "            break\n",
    "        else :\n",
    "            print(\"wrong input,try again!!\")\n",
    "            continue "
   ]
  },
  {
   "cell_type": "markdown",
   "metadata": {},
   "source": [
    "**Step 9: Write functions to display cards**<br>\n",
    "When the game starts, and after each time Player takes a card, the dealer's first card is hidden and all of Player's cards are visible. At the end of the hand all cards are shown, and you may want to show each hand's total value. Write a function for each of these scenarios."
   ]
  },
  {
   "cell_type": "code",
   "execution_count": 12,
   "metadata": {},
   "outputs": [],
   "source": [
    "def show_some(player,dealer):\n",
    "    print(\"player hand\")\n",
    "    for card in player.cards:\n",
    "        print(card)\n",
    "    print('\\ndealer hand one card hidden')\n",
    "    for card in dealer.cards[1:]:\n",
    "        print(card)\n",
    "        \n",
    "def show_all(player,dealer):\n",
    "    print('player hand')\n",
    "    for card in player.cards:\n",
    "        print(card)\n",
    "    print('Dealer hand')\n",
    "    for card in dealer.cards:\n",
    "        print(card)"
   ]
  },
  {
   "cell_type": "markdown",
   "metadata": {},
   "source": [
    "**Step 10: Write functions to handle end of game scenarios**<br>\n",
    "Remember to pass player's hand, dealer's hand and chips as needed."
   ]
  },
  {
   "cell_type": "code",
   "execution_count": 13,
   "metadata": {},
   "outputs": [],
   "source": [
    "def player_busts(player,dealer,chips):\n",
    "    print('Bust player!!')\n",
    "    chips.lose_bet()\n",
    "\n",
    "def player_wins(player,dealer,chips):\n",
    "    print(\"PLayer wins!!\")\n",
    "    chips.win_bet()\n",
    "    \n",
    "def dealer_busts(player,dealer,chips):\n",
    "    print(\"player win!! Dealer busts!!\")\n",
    "    chips.win_bet()\n",
    "    \n",
    "def dealer_wins(player,dealer,chips):\n",
    "    print(\"Dealer wins!!\")\n",
    "    chips.lose_bet()\n",
    "    \n",
    "def push(player,dealer):\n",
    "    print('Dealer and player tie! push')"
   ]
  },
  {
   "cell_type": "markdown",
   "metadata": {},
   "source": [
    "### And now on to the game!!"
   ]
  },
  {
   "cell_type": "code",
   "execution_count": 14,
   "metadata": {},
   "outputs": [
    {
     "name": "stdout",
     "output_type": "stream",
     "text": [
      "hello and welcome to the BlackJack game\n",
      "Now its time to make your first bet\n",
      "Enter amount you would like to bet20\n",
      "player hand\n",
      "Two of Diamonds and have value 2\n",
      "Five of Diamonds and have value 5\n",
      "\n",
      "dealer hand one card hidden\n",
      "Jack of Hearts and have value 10\n",
      "NOw its time to make a Hit or Stand\n",
      "Hit or stand? Enter h or ss\n",
      "Player Stand dealer turn\n",
      "player hand\n",
      "Two of Diamonds and have value 2\n",
      "Five of Diamonds and have value 5\n",
      "\n",
      "dealer hand one card hidden\n",
      "Jack of Hearts and have value 10\n",
      "player hand\n",
      "Two of Diamonds and have value 2\n",
      "Five of Diamonds and have value 5\n",
      "Dealer hand\n",
      "Four of Spades and have value 4\n",
      "Jack of Hearts and have value 10\n",
      "Eight of Hearts and have value 8\n",
      "player win!! Dealer busts!!\n",
      "\n",
      " Player total chips are :120 \n",
      "Wanna play again 'y' or 'n' y\n",
      "hello and welcome to the BlackJack game\n",
      "Now its time to make your first bet\n",
      "Enter amount you would like to bet20\n",
      "player hand\n",
      "Six of Diamonds and have value 6\n",
      "Four of Clubs and have value 4\n",
      "\n",
      "dealer hand one card hidden\n",
      "Eight of Diamonds and have value 8\n",
      "NOw its time to make a Hit or Stand\n",
      "Hit or stand? Enter h or sh\n",
      "Player hit\n",
      "player hand\n",
      "Six of Diamonds and have value 6\n",
      "Four of Clubs and have value 4\n",
      "King of Spades and have value 10\n",
      "\n",
      "dealer hand one card hidden\n",
      "Eight of Diamonds and have value 8\n",
      "NOw its time to make a Hit or Stand\n",
      "Hit or stand? Enter h or ss\n",
      "Player Stand dealer turn\n",
      "player hand\n",
      "Six of Diamonds and have value 6\n",
      "Four of Clubs and have value 4\n",
      "King of Spades and have value 10\n",
      "\n",
      "dealer hand one card hidden\n",
      "Eight of Diamonds and have value 8\n",
      "player hand\n",
      "Six of Diamonds and have value 6\n",
      "Four of Clubs and have value 4\n",
      "King of Spades and have value 10\n",
      "Dealer hand\n",
      "Jack of Spades and have value 10\n",
      "Eight of Diamonds and have value 8\n",
      "PLayer wins!!\n",
      "\n",
      " Player total chips are :120 \n",
      "Wanna play again 'y' or 'n' n\n"
     ]
    }
   ],
   "source": [
    "while True:\n",
    "    # Print an opening statement\n",
    "    print(\"hello and welcome to the BlackJack game\")\n",
    "    \n",
    "    # Create & shuffle the deck, deal two cards to each player\n",
    "    deck = Deck()\n",
    "    deck.shuffle()\n",
    "    player = Hand()\n",
    "    dealer = Hand()\n",
    "    player.add_card(deck.deal())\n",
    "    dealer.add_card(deck.deal())\n",
    "    player.add_card(deck.deal())\n",
    "    dealer.add_card(deck.deal())\n",
    "    \n",
    "        \n",
    "    # Set up the Player's chips\n",
    "    chips = Chips(100)\n",
    "    \n",
    "    # Prompt the Player for their bet\n",
    "    print('Now its time to make your first bet')\n",
    "    take_bet(chips)\n",
    "    \n",
    "    # Show cards (but keep one dealer card hidden)\n",
    "    show_some(player,dealer)\n",
    "    \n",
    "    while playing:  # recall this variable from our hit_or_stand function\n",
    "        \n",
    "        # Prompt for Player to Hit or Stand\n",
    "        print('NOw its time to make a Hit or Stand')\n",
    "        hit_or_stand(deck,player)\n",
    "        \n",
    "        # Show cards (but keep one dealer card hidden)\n",
    "        show_some(player,dealer)\n",
    "        \n",
    "        # If player's hand exceeds 21, run player_busts() and break out of loop\n",
    "        if player.value > 21:\n",
    "            player_busts(player,dealer,chips)\n",
    "            show_all(player,dealer)\n",
    "\n",
    "            break\n",
    "\n",
    "    # If Player hasn't busted, play Dealer's hand until Dealer reaches 17\n",
    "    if player.value <= 21:\n",
    "            \n",
    "        while dealer.value < 17:\n",
    "            hit(deck,dealer)\n",
    "\n",
    "        # Show all cards\n",
    "        show_all(player,dealer)\n",
    "\n",
    "        # Run different winning scenarios\n",
    "        if dealer.value >21 :\n",
    "            dealer_busts(player,dealer,chips)\n",
    "        elif dealer.value > player.value:\n",
    "            dealer_wins(player,dealer,chips)\n",
    "        elif dealer.value < player.value:\n",
    "            player_wins(player,dealer,chips)\n",
    "        else:\n",
    "            push(player,dealer)\n",
    "\n",
    "\n",
    "    # Inform Player of their chips total \n",
    "    print(\"\\n Player total chips are :{} \".format(chips.total))\n",
    "        \n",
    "    # Ask to play again\n",
    "    if input(\"Wanna play again 'y' or 'n' \").lower() == 'y':\n",
    "        playing = True\n",
    "        continue\n",
    "    else:\n",
    "        break"
   ]
  },
  {
   "cell_type": "markdown",
   "metadata": {},
   "source": [
    "And that's it! Remember, these steps may differ significantly from your own solution. That's OK! Keep working on different sections of your program until you get the desired results. It takes a lot of time and patience! As always, feel free to post questions and comments to the QA Forums.\n",
    "# Good job!"
   ]
  }
 ],
 "metadata": {
  "kernelspec": {
   "display_name": "Python 3",
   "language": "python",
   "name": "python3"
  },
  "language_info": {
   "codemirror_mode": {
    "name": "ipython",
    "version": 3
   },
   "file_extension": ".py",
   "mimetype": "text/x-python",
   "name": "python",
   "nbconvert_exporter": "python",
   "pygments_lexer": "ipython3",
   "version": "3.7.1"
  }
 },
 "nbformat": 4,
 "nbformat_minor": 1
}
